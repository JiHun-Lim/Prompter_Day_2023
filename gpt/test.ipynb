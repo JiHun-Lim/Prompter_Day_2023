{
 "cells": [
  {
   "cell_type": "code",
   "execution_count": 13,
   "metadata": {},
   "outputs": [],
   "source": [
    "import openai\n",
    "\n",
    "# 발급받은 API 키 설정\n",
    "OPENAI_API_KEY = \"\"\n",
    "\n",
    "# openai API 키 인증\n",
    "openai.api_key = OPENAI_API_KEY\n",
    "\n",
    "# 모델 - GPT 3.5 Turbo 선택\n",
    "# model = \"gpt-3.5-turbo\"\n",
    "model = \"gpt-4\"\n"
   ]
  },
  {
   "cell_type": "code",
   "execution_count": 12,
   "metadata": {},
   "outputs": [],
   "source": [
    "# 질문 작성하기\n",
    "query = 'Give me a simmilar question of \"If xy + e^y = e, find the value of y'' at the point where x = 0.\"'\n",
    "\n",
    "# 메시지 설정하기\n",
    "messages = [{\n",
    "    \"role\": \"system\",\n",
    "    \"content\": \"You are a helpful assistant.\"\n",
    "}, {\n",
    "    \"role\": \"user\",\n",
    "    \"content\": query\n",
    "}]\n"
   ]
  },
  {
   "cell_type": "code",
   "execution_count": 14,
   "metadata": {},
   "outputs": [
    {
     "name": "stdout",
     "output_type": "stream",
     "text": [
      "\"If xy - ln(y) = 1, find the value of y at the point where x = 0.\"\n"
     ]
    }
   ],
   "source": [
    "response = openai.ChatCompletion.create(model=model, messages=messages)\n",
    "answer = response['choices'][0]['message']['content']\n",
    "print(answer)"
   ]
  },
  {
   "cell_type": "code",
   "execution_count": 4,
   "metadata": {},
   "outputs": [
    {
     "data": {
      "text/plain": [
       "<OpenAIObject chat.completion id=chatcmpl-7pZjJ1LN46tEQSeVXS3XFyfyC2DsZ at 0x7f0e6a729da0> JSON: {\n",
       "  \"id\": \"chatcmpl-7pZjJ1LN46tEQSeVXS3XFyfyC2DsZ\",\n",
       "  \"object\": \"chat.completion\",\n",
       "  \"created\": 1692526429,\n",
       "  \"model\": \"gpt-3.5-turbo-0613\",\n",
       "  \"choices\": [\n",
       "    {\n",
       "      \"index\": 0,\n",
       "      \"message\": {\n",
       "        \"role\": \"assistant\",\n",
       "        \"content\": \"\\ud14d\\uc2a4\\ud2b8\\ub97c \\uc774\\ubbf8\\uc9c0\\ub85c \\uadf8\\ub824\\uc8fc\\ub294 \\ubaa8\\ub378\\uc740 \\uc77c\\ubc18\\uc801\\uc73c\\ub85c \\ud14d\\uc2a4\\ud2b8 \\uae30\\ubc18 \\uc0dd\\uc131 \\ubaa8\\ub378\\uc774\\ub77c\\uace0\\ub3c4 \\ubd88\\ub9bd\\ub2c8\\ub2e4. \\uc774\\ub7ec\\ud55c \\ubaa8\\ub378\\uc740 \\uc785\\ub825\\uc73c\\ub85c \\ud14d\\uc2a4\\ud2b8\\ub97c \\ubc1b\\uc544\\ub4e4\\uc774\\uace0, \\ud574\\ub2f9 \\ud14d\\uc2a4\\ud2b8\\uc5d0 \\ub300\\ud55c \\uc2dc\\uac01\\uc801 \\ud45c\\ud604\\uc744 \\uc0dd\\uc131\\ud558\\uc5ec \\uc774\\ubbf8\\uc9c0 \\ud615\\ud0dc\\ub85c \\ucd9c\\ub825\\ud569\\ub2c8\\ub2e4.\\n\\n\\uac00\\uc7a5 \\uae30\\ubcf8\\uc801\\uc778 \\ud14d\\uc2a4\\ud2b8\\ub97c \\uc774\\ubbf8\\uc9c0\\ub85c \\uadf8\\ub824\\uc8fc\\ub294 \\ubaa8\\ub378\\uc740 \\ud14d\\uc2a4\\ud2b8\\uc5d0\\uc11c \\uc774\\ubbf8\\uc9c0\\ub85c \\ubcc0\\ud658\\ud558\\ub294 Text-to-image synthesis\\ub77c\\ub294 \\ubd84\\uc57c\\uc5d0 \\uc18d\\ud569\\ub2c8\\ub2e4. \\uc774 \\ubd84\\uc57c\\uc5d0\\uc11c\\ub294 \\uc8fc\\ub85c \\ub525\\ub7ec\\ub2dd \\uae30\\ubc18 \\uc0dd\\uc131 \\ubaa8\\ub378\\uc778 Generative Adversarial Networks(GANs)\\uc744 \\uc0ac\\uc6a9\\ud558\\uc5ec \\ud14d\\uc2a4\\ud2b8\\ub85c\\ubd80\\ud130 \\uc774\\ubbf8\\uc9c0\\ub97c \\uc0dd\\uc131\\ud569\\ub2c8\\ub2e4.\\n\\nGAN\\uc740 \\uc0dd\\uc131\\uc790(generator)\\uc640 \\ud310\\ubcc4\\uc790(discriminator)\\ub85c \\uad6c\\uc131\\ub418\\uc5b4 \\uc788\\uc2b5\\ub2c8\\ub2e4. \\uc0dd\\uc131\\uc790\\ub294 \\uc785\\ub825\\ub41c \\ud14d\\uc2a4\\ud2b8\\ub97c \\ubc1b\\uc544\\ub4e4\\uc5ec \\uc774\\ubbf8\\uc9c0\\ub97c \\uc0dd\\uc131\\ud558\\uace0, \\ud310\\ubcc4\\uc790\\ub294 \\uc0dd\\uc131\\ub41c \\uc774\\ubbf8\\uc9c0\\uc640 \\uc2e4\\uc81c \\uc774\\ubbf8\\uc9c0\\ub97c \\uad6c\\ubcc4\\ud558\\uba70 \\ud559\\uc2b5\\ud569\\ub2c8\\ub2e4. \\uc774\\ub7f0 \\ubc29\\uc2dd\\uc73c\\ub85c \\uc0dd\\uc131\\uc790\\ub294 \\uc810\\ucc28\\uc801\\uc73c\\ub85c \\ud14d\\uc2a4\\ud2b8\\uc5d0 \\ub300\\ud55c \\uc2dc\\uac01\\uc801\\uc778 \\ud45c\\ud604\\uc744 \\uc775\\ud788\\uac8c \\ub418\\uace0, \\uacb0\\uacfc\\uc801\\uc73c\\ub85c \\ud14d\\uc2a4\\ud2b8\\ub97c \\uc774\\ubbf8\\uc9c0\\ub85c \\uadf8\\ub824\\ub0bc \\uc218 \\uc788\\uac8c \\ub429\\ub2c8\\ub2e4.\\n\\n\\ud14d\\uc2a4\\ud2b8\\ub97c \\uc774\\ubbf8\\uc9c0\\ub85c \\uadf8\\ub824\\uc8fc\\ub294 \\ubaa8\\ub378\\uc740 \\ub2e4\\uc591\\ud55c \\uc751\\uc6a9 \\ubd84\\uc57c\\uc5d0\\uc11c \\uc0ac\\uc6a9\\ub420 \\uc218 \\uc788\\uc2b5\\ub2c8\\ub2e4. \\uc608\\ub97c \\ub4e4\\uc5b4, \\ud14d\\uc2a4\\ud2b8 \\uc124\\uba85\\uc5d0 \\ub530\\ub77c \\uc2dc\\uac01\\uc801\\uc778 \\uc774\\ubbf8\\uc9c0\\ub97c \\uc0dd\\uc131\\ud558\\uc5ec \\uac00\\uc0c1\\uc758 \\uc7a5\\uba74\\uc744 \\uc2dc\\ubbac\\ub808\\uc774\\uc158\\ud558\\ub294 \\uac00\\uc0c1\\ud604\\uc2e4(VR)\\uc774\\ub098 \\uac8c\\uc784 \\uac1c\\ubc1c\\uc5d0\\uc11c \\uc0ac\\uc6a9\\ub420 \\uc218 \\uc788\\uc2b5\\ub2c8\\ub2e4. \\ub610\\ub294 \\ud14d\\uc2a4\\ud2b8 \\uae30\\ubc18\\uc758 \\uc790\\uc138\\ud55c \\uc124\\uba85\\uc774 \\ud544\\uc694\\ud55c \\uc0c1\\ud488\\uc774\\ub098 \\uc11c\\ube44\\uc2a4\\ub97c \\ud310\\ub9e4\\ud558\\ub294 \\uc804\\uc790\\uc0c1\\uac70\\ub798 \\uc6f9\\uc0ac\\uc774\\ud2b8\\uc5d0\\uc11c \\uc0c1\\ud488 \\uc774\\ubbf8\\uc9c0\\ub97c \\uc790\\ub3d9\\uc73c\\ub85c \\uc0dd\\uc131\\ud558\\ub294 \\uc6a9\\ub3c4\\ub85c\\ub3c4 \\ud65c\\uc6a9\\ub420 \\uc218 \\uc788\\uc2b5\\ub2c8\\ub2e4.\\n\\n\\uc774\\ub7ec\\ud55c \\ud14d\\uc2a4\\ud2b8\\ub97c \\uc774\\ubbf8\\uc9c0\\ub85c \\uadf8\\ub824\\uc8fc\\ub294 \\ubaa8\\ub378\\uc740 \\ucd5c\\uadfc \\uc5f0\\uad6c \\ubd84\\uc57c \\uc911 \\ud558\\ub098\\uc774\\uba70, \\ub354 \\ub098\\uc740 \\uc131\\ub2a5\\uacfc \\ub2e4\\uc591\\ud55c \\uc751\\uc6a9\\uc744 \\uc704\\ud55c \\uac1c\\uc120\\uc774 \\uacc4\\uc18d \\uc774\\ub8e8\\uc5b4\\uc9c0\\uace0 \\uc788\\uc2b5\\ub2c8\\ub2e4.\"\n",
       "      },\n",
       "      \"finish_reason\": \"stop\"\n",
       "    }\n",
       "  ],\n",
       "  \"usage\": {\n",
       "    \"prompt_tokens\": 42,\n",
       "    \"completion_tokens\": 553,\n",
       "    \"total_tokens\": 595\n",
       "  }\n",
       "}"
      ]
     },
     "execution_count": 4,
     "metadata": {},
     "output_type": "execute_result"
    }
   ],
   "source": [
    "response"
   ]
  },
  {
   "cell_type": "code",
   "execution_count": 14,
   "metadata": {},
   "outputs": [],
   "source": [
    "# 유튜브 영상정보 가져오기\n",
    "from pytube import YouTube\n",
    "\n",
    "url = 'https://youtu.be/7K1sB05pE0A'\n",
    "\n",
    "yt = YouTube(url)"
   ]
  },
  {
   "cell_type": "code",
   "execution_count": 16,
   "metadata": {},
   "outputs": [
    {
     "data": {
      "text/plain": [
       "'https://i.ytimg.com/vi/7K1sB05pE0A/hqdefault.jpg?sqp=-oaymwEXCJADEOABSFryq4qpAwkIARUAAIhCGAE=&rs=AOn4CLCNhKCoGmDSRNxwW8Ru3rjEpCioig'"
      ]
     },
     "execution_count": 16,
     "metadata": {},
     "output_type": "execute_result"
    }
   ],
   "source": [
    "yt.thumbnail_url"
   ]
  },
  {
   "cell_type": "code",
   "execution_count": 1,
   "metadata": {
    "vscode": {
     "languageId": "latex"
    }
   },
   "outputs": [
    {
     "ename": "SyntaxError",
     "evalue": "unexpected character after line continuation character (132885008.py, line 1)",
     "output_type": "error",
     "traceback": [
      "\u001b[0;36m  Cell \u001b[0;32mIn[1], line 1\u001b[0;36m\u001b[0m\n\u001b[0;31m    Find the limit of \\( \\left( \\frac{1 + t^2}{1 - t^2}, \\tan^{-1}(t), \\frac{1 - e^{-2t}}{t} \\right) \\) when \\( t \\) goes to infinity.\u001b[0m\n\u001b[0m                       ^\u001b[0m\n\u001b[0;31mSyntaxError\u001b[0m\u001b[0;31m:\u001b[0m unexpected character after line continuation character\n"
     ]
    }
   ],
   "source": [
    "Find the limit of \\( \\left( \\frac{1 + t^2}{1 - t^2}, \\tan^{-1}(t), \\frac{1 - e^{-2t}}{t} \\right) \\) when \\( t \\) goes to infinity."
   ]
  }
 ],
 "metadata": {
  "kernelspec": {
   "display_name": "test",
   "language": "python",
   "name": "python3"
  },
  "language_info": {
   "codemirror_mode": {
    "name": "ipython",
    "version": 3
   },
   "file_extension": ".py",
   "mimetype": "text/x-python",
   "name": "python",
   "nbconvert_exporter": "python",
   "pygments_lexer": "ipython3",
   "version": "3.10.9"
  },
  "orig_nbformat": 4
 },
 "nbformat": 4,
 "nbformat_minor": 2
}
