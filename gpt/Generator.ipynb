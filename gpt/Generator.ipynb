{
 "cells": [
  {
   "cell_type": "code",
   "execution_count": 3,
   "metadata": {},
   "outputs": [
    {
     "name": "stdout",
     "output_type": "stream",
     "text": [
      "Defaulting to user installation because normal site-packages is not writeable\n",
      "Requirement already satisfied: openai in ./.local/lib/python3.8/site-packages (0.27.8)\n",
      "Requirement already satisfied: requests>=2.20 in ./.local/lib/python3.8/site-packages (from openai) (2.28.2)\n",
      "Requirement already satisfied: tqdm in ./.local/lib/python3.8/site-packages (from openai) (4.65.0)\n",
      "Requirement already satisfied: aiohttp in ./.local/lib/python3.8/site-packages (from openai) (3.8.4)\n",
      "Requirement already satisfied: charset-normalizer<4,>=2 in ./.local/lib/python3.8/site-packages (from requests>=2.20->openai) (3.1.0)\n",
      "Requirement already satisfied: idna<4,>=2.5 in /usr/lib/python3/dist-packages (from requests>=2.20->openai) (2.8)\n",
      "Requirement already satisfied: urllib3<1.27,>=1.21.1 in ./.local/lib/python3.8/site-packages (from requests>=2.20->openai) (1.26.16)\n",
      "Requirement already satisfied: certifi>=2017.4.17 in ./.local/lib/python3.8/site-packages (from requests>=2.20->openai) (2023.5.7)\n",
      "Requirement already satisfied: attrs>=17.3.0 in ./.local/lib/python3.8/site-packages (from aiohttp->openai) (23.1.0)\n",
      "Requirement already satisfied: multidict<7.0,>=4.5 in ./.local/lib/python3.8/site-packages (from aiohttp->openai) (6.0.4)\n",
      "Requirement already satisfied: async-timeout<5.0,>=4.0.0a3 in ./.local/lib/python3.8/site-packages (from aiohttp->openai) (4.0.2)\n",
      "Requirement already satisfied: yarl<2.0,>=1.0 in ./.local/lib/python3.8/site-packages (from aiohttp->openai) (1.9.2)\n",
      "Requirement already satisfied: frozenlist>=1.1.1 in ./.local/lib/python3.8/site-packages (from aiohttp->openai) (1.3.3)\n",
      "Requirement already satisfied: aiosignal>=1.1.2 in ./.local/lib/python3.8/site-packages (from aiohttp->openai) (1.3.1)\n",
      "Note: you may need to restart the kernel to use updated packages.\n"
     ]
    }
   ],
   "source": [
    "pip install openai"
   ]
  },
  {
   "cell_type": "code",
   "execution_count": 10,
   "metadata": {},
   "outputs": [],
   "source": [
    "import os\n",
    "import openai\n",
    "\n",
    "#API 키와 모델\n",
    "openai.api_key = {MY_Key}\n",
    "MODEL = \"gpt-3.5-turbo\""
   ]
  },
  {
   "cell_type": "code",
   "execution_count": 46,
   "metadata": {},
   "outputs": [],
   "source": [
    "def PG(text):\n",
    "    response = openai.ChatCompletion.create(\n",
    "            model=MODEL,\n",
    "            messages=[\n",
    "                {\"role\": \"system\", \"content\": \"You are making calculus problems for undergraduates. Make similar problems with examples by following these laws. Laws: (1. If use polynomial equations, use equations of third degree or less),(2. don't put any square root in a square root),(3. Problems should be about trigonometric functions containing polynomial functions)\"},\n",
    "                {\"role\": \"system\", \"name\":\"example_user\", \"content\": \"Make problems similar with [If xy + e^y = e, find the value of y'' at the point where x = 0.]\"},\n",
    "                {\"role\": \"system\", \"name\": \"example_assistant\", \"content\": \"If (x^2+1)y + e^(y+1) = e, find the value of y'' at the point where x = 0.\"},\n",
    "                {\"role\": \"user\", \"content\": text},\n",
    "            ],\n",
    "            temperature=0.3,\n",
    "        )\n",
    "    problem = response[\"choices\"][0][\"message\"][\"content\"]\n",
    "    return problem"
   ]
  },
  {
   "cell_type": "code",
   "execution_count": 47,
   "metadata": {},
   "outputs": [
    {
     "name": "stdout",
     "output_type": "stream",
     "text": [
      "Sure! Here are five similar problems:\n",
      "\n",
      "1. If (x^3 + 2x)y + e^(2y) = e, find the value of y'' at the point where x = 0.\n",
      "\n",
      "2. If (x^2 - 3x + 1)y + e^(3y) = e, find the value of y'' at the point where x = 0.\n",
      "\n",
      "3. If (2x^3 - x^2 + 3)y + e^(y^2) = e, find the value of y'' at the point where x = 0.\n",
      "\n",
      "4. If (x^3 + 4x^2 - 2x + 1)y + e^(4y) = e, find the value of y'' at the point where x = 0.\n",
      "\n",
      "5. If (3x^2 + 2x + 1)y + e^(2y^2) = e, find the value of y'' at the point where x = 0.\n"
     ]
    }
   ],
   "source": [
    "text = \"Make 5 problems similar with [If xy + e^y = e, find the value of y'' at the point where x = 0.]\"\n",
    "print(PG(text))"
   ]
  }
 ],
 "metadata": {
  "kernelspec": {
   "display_name": "Python 3",
   "language": "python",
   "name": "python3"
  },
  "language_info": {
   "codemirror_mode": {
    "name": "ipython",
    "version": 3
   },
   "file_extension": ".py",
   "mimetype": "text/x-python",
   "name": "python",
   "nbconvert_exporter": "python",
   "pygments_lexer": "ipython3",
   "version": "3.8.10"
  },
  "orig_nbformat": 4
 },
 "nbformat": 4,
 "nbformat_minor": 2
}
